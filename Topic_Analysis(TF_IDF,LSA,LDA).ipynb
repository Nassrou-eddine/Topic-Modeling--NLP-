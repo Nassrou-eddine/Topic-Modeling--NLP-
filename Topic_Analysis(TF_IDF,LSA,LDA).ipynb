{
  "nbformat": 4,
  "nbformat_minor": 0,
  "metadata": {
    "colab": {
      "provenance": [],
      "gpuType": "T4"
    },
    "kernelspec": {
      "name": "python3",
      "display_name": "Python 3"
    },
    "language_info": {
      "name": "python"
    },
    "accelerator": "GPU"
  },
  "cells": [
    {
      "cell_type": "code",
      "execution_count": 1,
      "metadata": {
        "colab": {
          "base_uri": "https://localhost:8080/"
        },
        "id": "DB6R_1XIFt5A",
        "outputId": "6df4bed6-7807-4939-c3e7-af6507bf78c4"
      },
      "outputs": [
        {
          "output_type": "stream",
          "name": "stdout",
          "text": [
            "       Id   ProductId          UserId             ProfileName  \\\n",
            "0  165257  B000EVG8J2  A1L01D2BD3RKVO  B. Miller \"pet person\"   \n",
            "1  231466  B0000BXJIS  A3U62RE5XZDP0G                   Marty   \n",
            "2  427828  B008FHUFAU   AOXC0JQQZGGB6         Kenneth Shevlin   \n",
            "3  433955  B006BXV14E  A3PWPNZVMNX3PA             rareoopdvds   \n",
            "4   70261  B007I7Z3Z0  A1XNZ7PCE45KK7                  Og8ys1   \n",
            "\n",
            "   HelpfulnessNumerator  HelpfulnessDenominator  Score        Time  \\\n",
            "0                     0                       0      5  1268179200   \n",
            "1                     0                       0      5  1298937600   \n",
            "2                     0                       2      3  1224028800   \n",
            "3                     0                       1      2  1335312000   \n",
            "4                     0                       2      5  1334707200   \n",
            "\n",
            "                                        Summary  \\\n",
            "0  Crunchy & Good Gluten-Free Sandwich Cookies!   \n",
            "1                            great kitty treats   \n",
            "2                                  COFFEE TASTE   \n",
            "3              So the Mini-Wheats were too big?   \n",
            "4                             Great Taste . . .   \n",
            "\n",
            "                                                Text  \n",
            "0  Having tried a couple of other brands of glute...  \n",
            "1  My cat loves these treats. If ever I can't fin...  \n",
            "2  A little less than I expected.  It tends to ha...  \n",
            "3  First there was Frosted Mini-Wheats, in origin...  \n",
            "4  and I want to congratulate the graphic artist ...  \n"
          ]
        }
      ],
      "source": [
        "import pandas as pd\n",
        "\n",
        "# Importer le fichier CSV en ignorant les lignes problématiques\n",
        "df = pd.read_csv('Reviews.csv', sep=',', on_bad_lines='skip')\n",
        "\n",
        "# Afficher les 5 premières lignes pour visualiser la structure des données\n",
        "print(df.head())\n"
      ]
    },
    {
      "cell_type": "code",
      "source": [
        "# Informations générales sur le dataframe\n",
        "df.info()\n"
      ],
      "metadata": {
        "colab": {
          "base_uri": "https://localhost:8080/"
        },
        "id": "FFMuiBniHn__",
        "outputId": "b87474b6-62c1-479b-ccd2-d7745abc6cb1"
      },
      "execution_count": 2,
      "outputs": [
        {
          "output_type": "stream",
          "name": "stdout",
          "text": [
            "<class 'pandas.core.frame.DataFrame'>\n",
            "RangeIndex: 268454 entries, 0 to 268453\n",
            "Data columns (total 10 columns):\n",
            " #   Column                  Non-Null Count   Dtype \n",
            "---  ------                  --------------   ----- \n",
            " 0   Id                      268454 non-null  int64 \n",
            " 1   ProductId               268454 non-null  object\n",
            " 2   UserId                  268454 non-null  object\n",
            " 3   ProfileName             268442 non-null  object\n",
            " 4   HelpfulnessNumerator    268454 non-null  int64 \n",
            " 5   HelpfulnessDenominator  268454 non-null  int64 \n",
            " 6   Score                   268454 non-null  int64 \n",
            " 7   Time                    268454 non-null  int64 \n",
            " 8   Summary                 268439 non-null  object\n",
            " 9   Text                    268454 non-null  object\n",
            "dtypes: int64(5), object(5)\n",
            "memory usage: 20.5+ MB\n"
          ]
        }
      ]
    },
    {
      "cell_type": "code",
      "source": [
        "# Statistiques descriptives pour les colonnes numériques\n",
        "print(df.describe())\n"
      ],
      "metadata": {
        "colab": {
          "base_uri": "https://localhost:8080/"
        },
        "id": "xyZuINxTHsBu",
        "outputId": "778ab9cf-026d-4904-94d5-76a1799af1ef"
      },
      "execution_count": 3,
      "outputs": [
        {
          "output_type": "stream",
          "name": "stdout",
          "text": [
            "                  Id  HelpfulnessNumerator  HelpfulnessDenominator  \\\n",
            "count  268454.000000         268454.000000           268454.000000   \n",
            "mean   284224.830392              1.760894                2.246001   \n",
            "std    164078.944081              7.860870                8.543723   \n",
            "min         1.000000              0.000000                0.000000   \n",
            "25%    142353.250000              0.000000                0.000000   \n",
            "50%    284326.000000              0.000000                1.000000   \n",
            "75%    426098.000000              2.000000                2.000000   \n",
            "max    568454.000000            844.000000              923.000000   \n",
            "\n",
            "               Score          Time  \n",
            "count  268454.000000  2.684540e+05  \n",
            "mean        4.186173  1.296309e+09  \n",
            "std         1.307831  4.798305e+07  \n",
            "min         1.000000  9.393408e+08  \n",
            "25%         4.000000  1.271376e+09  \n",
            "50%         5.000000  1.311120e+09  \n",
            "75%         5.000000  1.332720e+09  \n",
            "max         5.000000  1.351210e+09  \n"
          ]
        }
      ]
    },
    {
      "cell_type": "code",
      "source": [
        "# Vérifier le nombre de valeurs manquantes dans chaque colonne\n",
        "print(df.isnull().sum())\n"
      ],
      "metadata": {
        "colab": {
          "base_uri": "https://localhost:8080/"
        },
        "id": "TYJaO8fTHsD_",
        "outputId": "b22e713d-7981-4342-9a44-2354d9a832cd"
      },
      "execution_count": 4,
      "outputs": [
        {
          "output_type": "stream",
          "name": "stdout",
          "text": [
            "Id                         0\n",
            "ProductId                  0\n",
            "UserId                     0\n",
            "ProfileName               12\n",
            "HelpfulnessNumerator       0\n",
            "HelpfulnessDenominator     0\n",
            "Score                      0\n",
            "Time                       0\n",
            "Summary                   15\n",
            "Text                       0\n",
            "dtype: int64\n"
          ]
        }
      ]
    },
    {
      "cell_type": "code",
      "source": [
        "# Afficher le nombre de lignes et de colonnes\n",
        "print(f\"Nombre de lignes: {df.shape[0]}\")\n",
        "print(f\"Nombre de colonnes: {df.shape[1]}\")\n"
      ],
      "metadata": {
        "colab": {
          "base_uri": "https://localhost:8080/"
        },
        "id": "BVqGbdquHyzB",
        "outputId": "2c33603a-08b9-4240-de95-c78b19843bfb"
      },
      "execution_count": 5,
      "outputs": [
        {
          "output_type": "stream",
          "name": "stdout",
          "text": [
            "Nombre de lignes: 268454\n",
            "Nombre de colonnes: 10\n"
          ]
        }
      ]
    },
    {
      "cell_type": "code",
      "source": [
        "pip install nltk pandas\n"
      ],
      "metadata": {
        "colab": {
          "base_uri": "https://localhost:8080/"
        },
        "id": "8jxcwaFlH2Q0",
        "outputId": "d45d2b97-57ab-48d8-9c81-a9eb3b8bb16c"
      },
      "execution_count": 6,
      "outputs": [
        {
          "output_type": "stream",
          "name": "stdout",
          "text": [
            "Requirement already satisfied: nltk in /usr/local/lib/python3.10/dist-packages (3.8.1)\n",
            "Requirement already satisfied: pandas in /usr/local/lib/python3.10/dist-packages (2.2.2)\n",
            "Requirement already satisfied: click in /usr/local/lib/python3.10/dist-packages (from nltk) (8.1.7)\n",
            "Requirement already satisfied: joblib in /usr/local/lib/python3.10/dist-packages (from nltk) (1.4.2)\n",
            "Requirement already satisfied: regex>=2021.8.3 in /usr/local/lib/python3.10/dist-packages (from nltk) (2024.9.11)\n",
            "Requirement already satisfied: tqdm in /usr/local/lib/python3.10/dist-packages (from nltk) (4.66.5)\n",
            "Requirement already satisfied: numpy>=1.22.4 in /usr/local/lib/python3.10/dist-packages (from pandas) (1.26.4)\n",
            "Requirement already satisfied: python-dateutil>=2.8.2 in /usr/local/lib/python3.10/dist-packages (from pandas) (2.8.2)\n",
            "Requirement already satisfied: pytz>=2020.1 in /usr/local/lib/python3.10/dist-packages (from pandas) (2024.2)\n",
            "Requirement already satisfied: tzdata>=2022.7 in /usr/local/lib/python3.10/dist-packages (from pandas) (2024.2)\n",
            "Requirement already satisfied: six>=1.5 in /usr/local/lib/python3.10/dist-packages (from python-dateutil>=2.8.2->pandas) (1.16.0)\n"
          ]
        }
      ]
    },
    {
      "cell_type": "code",
      "source": [
        "print(df.columns)\n"
      ],
      "metadata": {
        "colab": {
          "base_uri": "https://localhost:8080/"
        },
        "id": "YC1SRg0LIIEi",
        "outputId": "2be6712c-88f0-4362-b147-104af7936a3a"
      },
      "execution_count": 7,
      "outputs": [
        {
          "output_type": "stream",
          "name": "stdout",
          "text": [
            "Index(['Id', 'ProductId', 'UserId', 'ProfileName', 'HelpfulnessNumerator',\n",
            "       'HelpfulnessDenominator', 'Score', 'Time', 'Summary', 'Text'],\n",
            "      dtype='object')\n"
          ]
        }
      ]
    },
    {
      "cell_type": "code",
      "source": [
        "import pandas as pd\n",
        "import re\n",
        "import string\n",
        "import nltk\n",
        "from nltk.corpus import stopwords\n",
        "\n",
        "# Télécharger les stopwords si ce n'est pas déjà fait\n",
        "nltk.download('stopwords')\n",
        "\n",
        "# Définir les stopwords en anglais (vous pouvez changer la langue si besoin)\n",
        "stop_words = set(stopwords.words('english'))\n",
        "\n",
        "def nettoyer_texte(texte):\n",
        "    # Convertir le texte en minuscules\n",
        "    texte = texte.lower()\n",
        "\n",
        "    # Supprimer la ponctuation\n",
        "    texte = texte.translate(str.maketrans('', '', string.punctuation))\n",
        "\n",
        "    # Supprimer les chiffres\n",
        "    texte = re.sub(r'\\d+', '', texte)\n",
        "\n",
        "    # Supprimer les stopwords\n",
        "    texte = ' '.join([mot for mot in texte.split() if mot not in stop_words])\n",
        "\n",
        "    return texte\n",
        "\n",
        "# Appliquer la fonction de nettoyage sur la colonne 'Text'\n",
        "df['Cleaned_Text'] = df['Text'].apply(nettoyer_texte)\n",
        "\n",
        "# Afficher les 5 premières lignes pour vérifier le résultat\n",
        "print(df[['Text', 'Cleaned_Text']].head())\n"
      ],
      "metadata": {
        "colab": {
          "base_uri": "https://localhost:8080/"
        },
        "id": "4nGEcQgbIZtz",
        "outputId": "1ef7bb18-ba32-4d86-9bf7-85a508f4e487"
      },
      "execution_count": 8,
      "outputs": [
        {
          "output_type": "stream",
          "name": "stderr",
          "text": [
            "[nltk_data] Downloading package stopwords to /root/nltk_data...\n",
            "[nltk_data]   Unzipping corpora/stopwords.zip.\n"
          ]
        },
        {
          "output_type": "stream",
          "name": "stdout",
          "text": [
            "                                                Text  \\\n",
            "0  Having tried a couple of other brands of glute...   \n",
            "1  My cat loves these treats. If ever I can't fin...   \n",
            "2  A little less than I expected.  It tends to ha...   \n",
            "3  First there was Frosted Mini-Wheats, in origin...   \n",
            "4  and I want to congratulate the graphic artist ...   \n",
            "\n",
            "                                        Cleaned_Text  \n",
            "0  tried couple brands glutenfree sandwich cookie...  \n",
            "1  cat loves treats ever cant find house pop top ...  \n",
            "2  little less expected tends muddy taste expecte...  \n",
            "3  first frosted miniwheats original size frosted...  \n",
            "4  want congratulate graphic artist putting entir...  \n"
          ]
        }
      ]
    },
    {
      "cell_type": "code",
      "source": [
        "from sklearn.feature_extraction.text import TfidfVectorizer\n",
        "\n",
        "# Initialiser le TfidfVectorizer avec les paramètres requis\n",
        "tfidf_vect = TfidfVectorizer(max_features=1000, min_df=5)\n",
        "\n",
        "# Appliquer la vectorisation sur la colonne 'Cleaned_Text'\n",
        "tfidf_matrix = tfidf_vect.fit_transform(df['Cleaned_Text'])\n",
        "\n",
        "# Convertir la matrice en dataframe pour une meilleure visualisation (optionnel)\n",
        "tfidf_df = pd.DataFrame(tfidf_matrix.toarray(), columns=tfidf_vect.get_feature_names_out())\n",
        "\n",
        "# Afficher les 5 premières lignes de la matrice TF-IDF\n",
        "print(tfidf_df.head())\n"
      ],
      "metadata": {
        "colab": {
          "base_uri": "https://localhost:8080/"
        },
        "id": "4Di-cJ_RJSYJ",
        "outputId": "f79a0993-aa1c-4f94-ab68-ee0b059df4d6"
      },
      "execution_count": 9,
      "outputs": [
        {
          "output_type": "stream",
          "name": "stdout",
          "text": [
            "   able  absolutely  acid  across  actual  actually  add  added  adding  \\\n",
            "0   0.0         0.0   0.0     0.0     0.0  0.000000  0.0    0.0     0.0   \n",
            "1   0.0         0.0   0.0     0.0     0.0  0.000000  0.0    0.0     0.0   \n",
            "2   0.0         0.0   0.0     0.0     0.0  0.000000  0.0    0.0     0.0   \n",
            "3   0.0         0.0   0.0     0.0     0.0  0.068793  0.0    0.0     0.0   \n",
            "4   0.0         0.0   0.0     0.0     0.0  0.000000  0.0    0.0     0.0   \n",
            "\n",
            "   addition  ...  year  years       yes       yet  yogurt  youll  youre  \\\n",
            "0       0.0  ...   0.0    0.0  0.000000  0.000000     0.0    0.0    0.0   \n",
            "1       0.0  ...   0.0    0.0  0.000000  0.163843     0.0    0.0    0.0   \n",
            "2       0.0  ...   0.0    0.0  0.000000  0.000000     0.0    0.0    0.0   \n",
            "3       0.0  ...   0.0    0.0  0.086806  0.000000     0.0    0.0    0.0   \n",
            "4       0.0  ...   0.0    0.0  0.000000  0.000000     0.0    0.0    0.0   \n",
            "\n",
            "   youve  yum  yummy  \n",
            "0    0.0  0.0    0.0  \n",
            "1    0.0  0.0    0.0  \n",
            "2    0.0  0.0    0.0  \n",
            "3    0.0  0.0    0.0  \n",
            "4    0.0  0.0    0.0  \n",
            "\n",
            "[5 rows x 1000 columns]\n"
          ]
        }
      ]
    },
    {
      "cell_type": "code",
      "source": [
        "# Calculer la somme des scores TF-IDF pour chaque mot\n",
        "tfidf_sum = tfidf_df.sum().sort_values(ascending=False)\n",
        "\n",
        "# Obtenir les 10 mots avec les scores TF-IDF les plus élevés\n",
        "top_10_words = tfidf_sum.head(10)\n",
        "\n",
        "# Afficher les mots et leurs scores\n",
        "print(\"Les 10 mots les plus fréquents selon le score TF-IDF :\")\n",
        "print(top_10_words)"
      ],
      "metadata": {
        "colab": {
          "base_uri": "https://localhost:8080/"
        },
        "id": "KFkzONTUJvRf",
        "outputId": "308156cf-fc04-40b6-feef-228d39081944"
      },
      "execution_count": 10,
      "outputs": [
        {
          "output_type": "stream",
          "name": "stdout",
          "text": [
            "Les 10 mots les plus fréquents selon le score TF-IDF :\n",
            "like       9501.694370\n",
            "good       8922.112051\n",
            "coffee     8846.857663\n",
            "great      8793.902681\n",
            "br         8507.170433\n",
            "tea        7681.924666\n",
            "taste      7660.647588\n",
            "product    7612.161379\n",
            "love       7285.231902\n",
            "one        7186.060271\n",
            "dtype: float64\n"
          ]
        }
      ]
    },
    {
      "cell_type": "markdown",
      "source": [
        "On peut dire que : Les termes \"like\" et \"good\" dominent, avec des scores respectifs de 9501.69 et 8922.11, ce qui suggère une perception générale positive des produits. Des mots tels que \"coffee\" et \"great\" montrent également une forte présence, avec des scores élevés de 8846.86 et 8793.90, indiquant que ces produits suscitent un intérêt particulier chez les consommateurs.\n",
        "\n",
        "En outre, des termes comme \"tea\" et \"taste\" apparaissent, renforçant l'idée que les préférences pour des boissons spécifiques sont significatives dans les avis. Le mot \"product\", présent dans de nombreux avis, souligne l'aspect général de la satisfaction des clients envers les produits alimentaires. Enfin, \"love\" et \"one\" témoignent d'une connexion émotionnelle avec les produits, suggérant que les consommateurs ont tendance à exprimer leur enthousiasme de manière subjective.\n"
      ],
      "metadata": {
        "id": "id7AFnMSJ1Hi"
      }
    },
    {
      "cell_type": "code",
      "source": [
        "from sklearn.decomposition import TruncatedSVD\n",
        "\n",
        "# Initialiser TruncatedSVD avec le nombre de composantes désiré\n",
        "lsa = TruncatedSVD(n_components=50, random_state=42)\n",
        "\n",
        "# Appliquer LSA sur la matrice TF-IDF\n",
        "lsa_result = lsa.fit_transform(tfidf_df)\n",
        "\n",
        "# Convertir le résultat en DataFrame pour une meilleure visualisation\n",
        "lsa_df = pd.DataFrame(lsa_result, columns=[f'Component_{i+1}' for i in range(50)])\n",
        "\n",
        "# Afficher les 5 premières lignes du résultat LSA\n",
        "print(\"Résultat de LSA (5 premières lignes) :\")\n",
        "print(lsa_df.head())\n"
      ],
      "metadata": {
        "colab": {
          "base_uri": "https://localhost:8080/"
        },
        "id": "xABk4MHoKD8s",
        "outputId": "1db6ab71-2b8a-492e-a6f8-89055444655b"
      },
      "execution_count": 11,
      "outputs": [
        {
          "output_type": "stream",
          "name": "stdout",
          "text": [
            "Résultat de LSA (5 premières lignes) :\n",
            "   Component_1  Component_2  Component_3  Component_4  Component_5  \\\n",
            "0     0.156971    -0.026268    -0.004228    -0.122840     0.052714   \n",
            "1     0.230161    -0.131987    -0.027755     0.146448     0.009232   \n",
            "2     0.111029    -0.006701    -0.002609    -0.039857     0.011131   \n",
            "3     0.286565    -0.067000    -0.012524    -0.100478     0.155619   \n",
            "4     0.301302    -0.051326    -0.001450    -0.122397     0.031715   \n",
            "\n",
            "   Component_6  Component_7  Component_8  Component_9  Component_10  ...  \\\n",
            "0    -0.110098     0.031692    -0.089506    -0.030927      0.087016  ...   \n",
            "1    -0.119500    -0.081500    -0.084138    -0.042132     -0.005806  ...   \n",
            "2    -0.026206     0.008990     0.012657    -0.034290     -0.008182  ...   \n",
            "3     0.008959    -0.082666     0.004348     0.017524     -0.047021  ...   \n",
            "4     0.009906    -0.038181     0.182342    -0.088676      0.035658  ...   \n",
            "\n",
            "   Component_41  Component_42  Component_43  Component_44  Component_45  \\\n",
            "0      0.002430     -0.040064      0.009067     -0.038743     -0.062006   \n",
            "1      0.014744      0.053296      0.006814     -0.083220     -0.011876   \n",
            "2      0.103050      0.006965      0.014007     -0.001614     -0.017426   \n",
            "3     -0.031190     -0.009401      0.043648     -0.021548     -0.060665   \n",
            "4     -0.008349      0.094973     -0.019390     -0.004585     -0.062096   \n",
            "\n",
            "   Component_46  Component_47  Component_48  Component_49  Component_50  \n",
            "0      0.042204      0.013332     -0.018042     -0.005545     -0.046449  \n",
            "1      0.003749     -0.047669     -0.030423      0.032379     -0.046650  \n",
            "2     -0.040902      0.036226      0.087039      0.005869      0.118219  \n",
            "3     -0.007081     -0.065491     -0.039866     -0.033058     -0.054499  \n",
            "4      0.009357      0.028741     -0.044010      0.035504     -0.028049  \n",
            "\n",
            "[5 rows x 50 columns]\n"
          ]
        }
      ]
    },
    {
      "cell_type": "code",
      "source": [
        "\n",
        "\n",
        "# Initialiser TruncatedSVD avec le nombre de composantes désiré\n",
        "lsa = TruncatedSVD(n_components=5, random_state=42)\n",
        "\n",
        "# Appliquer LSA sur la matrice TF-IDF\n",
        "lsa_result = lsa.fit_transform(tfidf_matrix)\n",
        "\n",
        "# Convertir le résultat en DataFrame pour une meilleure visualisation\n",
        "lsa_df = pd.DataFrame(lsa_result, columns=[f'Component_{i+1}' for i in range(5)])\n",
        "\n",
        "# Afficher les 5 premières lignes du résultat LSA\n",
        "print(\"Résultat de LSA (5 premières lignes) :\")\n",
        "print(lsa_df.head())\n",
        "\n",
        "# Obtenez les termes (mots) associés à votre matrice TF-IDF\n",
        "terms = tfidf_vect.get_feature_names_out()\n",
        "\n",
        "# Affichez les 5 thèmes principaux et leurs 10 mots associés\n",
        "num_topics = 5\n",
        "num_words = 10\n",
        "\n",
        "# Pour chaque composant, récupérez les indices des mots les plus importants\n",
        "for i in range(num_topics):\n",
        "    # Obtenez les poids des mots pour le thème i\n",
        "    component = lsa.components_[i]\n",
        "\n",
        "    # Obtenez les indices des 10 mots les plus représentatifs\n",
        "    top_word_indices = component.argsort()[-num_words:][::-1]\n",
        "\n",
        "    # Affichez les mots associés avec leur poids\n",
        "    print(f\"Thème {i + 1}:\")\n",
        "    for index in top_word_indices:\n",
        "        print(f\"{terms[index]}: {component[index]:.4f}\")\n",
        "    print(\"\\n\")"
      ],
      "metadata": {
        "colab": {
          "base_uri": "https://localhost:8080/"
        },
        "id": "Y4SoKgb3K4P9",
        "outputId": "77c0691a-10cc-4387-f677-a8e34a3cddff"
      },
      "execution_count": 12,
      "outputs": [
        {
          "output_type": "stream",
          "name": "stdout",
          "text": [
            "Résultat de LSA (5 premières lignes) :\n",
            "   Component_1  Component_2  Component_3  Component_4  Component_5\n",
            "0     0.156971    -0.026334    -0.004324    -0.123823     0.041732\n",
            "1     0.230161    -0.131968    -0.027855     0.146864     0.010152\n",
            "2     0.111029    -0.006722    -0.002642    -0.040064     0.011237\n",
            "3     0.286565    -0.066941    -0.012535    -0.098700     0.156908\n",
            "4     0.301302    -0.051375    -0.001507    -0.124449     0.030335\n",
            "Thème 1:\n",
            "coffee: 0.2072\n",
            "br: 0.2047\n",
            "like: 0.2022\n",
            "good: 0.1779\n",
            "tea: 0.1758\n",
            "great: 0.1666\n",
            "taste: 0.1584\n",
            "one: 0.1488\n",
            "product: 0.1429\n",
            "flavor: 0.1419\n",
            "\n",
            "\n",
            "Thème 2:\n",
            "coffee: 0.6674\n",
            "tea: 0.3574\n",
            "cup: 0.1584\n",
            "strong: 0.1043\n",
            "flavor: 0.0848\n",
            "drink: 0.0781\n",
            "bold: 0.0684\n",
            "green: 0.0664\n",
            "bitter: 0.0623\n",
            "roast: 0.0603\n",
            "\n",
            "\n",
            "Thème 3:\n",
            "tea: 0.8223\n",
            "green: 0.1068\n",
            "teas: 0.0956\n",
            "bags: 0.0535\n",
            "iced: 0.0462\n",
            "drink: 0.0439\n",
            "stash: 0.0413\n",
            "black: 0.0374\n",
            "chai: 0.0358\n",
            "earl: 0.0340\n",
            "\n",
            "\n",
            "Thème 4:\n",
            "food: 0.4393\n",
            "dog: 0.4092\n",
            "coffee: 0.2685\n",
            "tea: 0.2309\n",
            "dogs: 0.2021\n",
            "treats: 0.1903\n",
            "cat: 0.1817\n",
            "loves: 0.1328\n",
            "cats: 0.1297\n",
            "treat: 0.0734\n",
            "\n",
            "\n",
            "Thème 5:\n",
            "br: 0.5178\n",
            "like: 0.1927\n",
            "water: 0.1020\n",
            "food: 0.0913\n",
            "flavor: 0.0693\n",
            "one: 0.0626\n",
            "dont: 0.0616\n",
            "chocolate: 0.0590\n",
            "taste: 0.0573\n",
            "cat: 0.0567\n",
            "\n",
            "\n"
          ]
        }
      ]
    },
    {
      "cell_type": "code",
      "source": [
        "import numpy as np\n",
        "import pandas as pd\n",
        "from sklearn.decomposition import LatentDirichletAllocation\n",
        "\n",
        "# Supposons que tfidf_df soit déjà créé et disponible\n",
        "# Échantillonnage de 15% des données\n",
        "dataset_div = tfidf_df.sample(frac=0.15, random_state=0)  # Échantillonner 15% des données\n",
        "\n",
        "# Appliquer LDA\n",
        "lda = LatentDirichletAllocation(n_components=5, random_state=0)\n",
        "lda.fit(dataset_div)\n",
        "\n",
        "# Sortie : Distribution des topics pour chaque document\n",
        "doc_topic_dist = lda.transform(dataset_div)\n",
        "print(\"\\nDistribution des topics pour chaque document (probabilités) :\")\n",
        "print(doc_topic_dist)\n",
        "\n",
        "# Sortie : Composants LDA (mots et leurs poids)\n",
        "print(\"\\nComposants LDA :\")\n",
        "print(lda.components_)\n"
      ],
      "metadata": {
        "colab": {
          "base_uri": "https://localhost:8080/"
        },
        "id": "lSrYoN_ZTIV3",
        "outputId": "2d8f6578-f5ac-49b5-eff9-28d1bb4169ae"
      },
      "execution_count": 13,
      "outputs": [
        {
          "output_type": "stream",
          "name": "stdout",
          "text": [
            "\n",
            "Distribution des topics pour chaque document (probabilités) :\n",
            "[[0.04578319 0.04574838 0.81658198 0.0458234  0.04606304]\n",
            " [0.82608752 0.04339625 0.04325131 0.04354912 0.04371579]\n",
            " [0.04321366 0.04292541 0.76677355 0.04399672 0.10309066]\n",
            " ...\n",
            " [0.02846227 0.0279993  0.02843747 0.88653259 0.02856838]\n",
            " [0.05348135 0.78777169 0.05284881 0.05289244 0.0530057 ]\n",
            " [0.04068634 0.04034701 0.04011926 0.8383177  0.04052969]]\n",
            "\n",
            "Composants LDA :\n",
            "[[84.99221991 42.90979159  0.22218564 ...  8.05407579  1.05551308\n",
            "  28.74339616]\n",
            " [14.17390854 20.25968361 20.61856663 ...  4.06790336  4.92141756\n",
            "   6.22959752]\n",
            " [40.88886962 56.70594124  7.50280693 ...  3.77391811  0.26907868\n",
            "   9.9982404 ]\n",
            " [32.96327005 45.30778296 15.54513026 ... 21.21134061 31.45527631\n",
            "  69.81845913]\n",
            " [32.25589213 36.30263958  7.85702247 ... 19.00747508 42.73811609\n",
            "  35.49826616]]\n"
          ]
        }
      ]
    }
  ]
}